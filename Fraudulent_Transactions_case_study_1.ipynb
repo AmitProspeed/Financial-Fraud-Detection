{
  "nbformat": 4,
  "nbformat_minor": 0,
  "metadata": {
    "colab": {
      "name": "Fraudulent_Transactions_case_study_1.ipynb",
      "provenance": [],
      "collapsed_sections": []
    },
    "kernelspec": {
      "name": "python3",
      "display_name": "Python 3"
    }
  },
  "cells": [
    {
      "cell_type": "markdown",
      "metadata": {
        "id": "ksKbGz6nLQqM"
      },
      "source": [
        "We are given a synthetic financial dataset generated using a simulator called PaySim in which some of the transactions are marked as fraudulent. Our task is to analyze the dataset by performing exploratory data analysis and finally train a suitable model to predict fraudulent financial transactions. \r\n",
        "\r\n",
        "**Dataset** - The dataset consists of almost 6.3 million rows of transacional data having 11 columns. The dataset is simulated version of real transactions extracted from one month of financial logs from a mobile money service implemented in an African country. Also, there are no missing values in the dataset."
      ]
    },
    {
      "cell_type": "code",
      "metadata": {
        "colab": {
          "base_uri": "https://localhost:8080/"
        },
        "id": "4LS4A7w-MyrP",
        "outputId": "291f4c66-f748-4c04-c877-2084ce745c34"
      },
      "source": [
        "import pandas as pd\r\n",
        "df = pd.read_csv('PS_20174392719_1491204439457_log.csv')\r\n",
        "df.shape"
      ],
      "execution_count": null,
      "outputs": [
        {
          "output_type": "execute_result",
          "data": {
            "text/plain": [
              "(6362620, 11)"
            ]
          },
          "metadata": {
            "tags": []
          },
          "execution_count": 35
        }
      ]
    },
    {
      "cell_type": "code",
      "metadata": {
        "colab": {
          "base_uri": "https://localhost:8080/",
          "height": 360
        },
        "id": "4C5WcCVhQ-PI",
        "outputId": "69770b00-b3fc-45a5-8e00-3009cb4de77f"
      },
      "source": [
        "print(\"Any missing values: {}\".format(df.isnull().values.any()))\r\n",
        "df.head(10)"
      ],
      "execution_count": null,
      "outputs": [
        {
          "output_type": "stream",
          "text": [
            "Any missing values: False\n"
          ],
          "name": "stdout"
        },
        {
          "output_type": "execute_result",
          "data": {
            "text/html": [
              "<div>\n",
              "<style scoped>\n",
              "    .dataframe tbody tr th:only-of-type {\n",
              "        vertical-align: middle;\n",
              "    }\n",
              "\n",
              "    .dataframe tbody tr th {\n",
              "        vertical-align: top;\n",
              "    }\n",
              "\n",
              "    .dataframe thead th {\n",
              "        text-align: right;\n",
              "    }\n",
              "</style>\n",
              "<table border=\"1\" class=\"dataframe\">\n",
              "  <thead>\n",
              "    <tr style=\"text-align: right;\">\n",
              "      <th></th>\n",
              "      <th>step</th>\n",
              "      <th>type</th>\n",
              "      <th>amount</th>\n",
              "      <th>nameOrig</th>\n",
              "      <th>oldbalanceOrg</th>\n",
              "      <th>newbalanceOrig</th>\n",
              "      <th>nameDest</th>\n",
              "      <th>oldbalanceDest</th>\n",
              "      <th>newbalanceDest</th>\n",
              "      <th>isFraud</th>\n",
              "      <th>isFlaggedFraud</th>\n",
              "    </tr>\n",
              "  </thead>\n",
              "  <tbody>\n",
              "    <tr>\n",
              "      <th>0</th>\n",
              "      <td>1</td>\n",
              "      <td>PAYMENT</td>\n",
              "      <td>9839.64</td>\n",
              "      <td>C1231006815</td>\n",
              "      <td>170136.00</td>\n",
              "      <td>160296.36</td>\n",
              "      <td>M1979787155</td>\n",
              "      <td>0.0</td>\n",
              "      <td>0.00</td>\n",
              "      <td>0</td>\n",
              "      <td>0</td>\n",
              "    </tr>\n",
              "    <tr>\n",
              "      <th>1</th>\n",
              "      <td>1</td>\n",
              "      <td>PAYMENT</td>\n",
              "      <td>1864.28</td>\n",
              "      <td>C1666544295</td>\n",
              "      <td>21249.00</td>\n",
              "      <td>19384.72</td>\n",
              "      <td>M2044282225</td>\n",
              "      <td>0.0</td>\n",
              "      <td>0.00</td>\n",
              "      <td>0</td>\n",
              "      <td>0</td>\n",
              "    </tr>\n",
              "    <tr>\n",
              "      <th>2</th>\n",
              "      <td>1</td>\n",
              "      <td>TRANSFER</td>\n",
              "      <td>181.00</td>\n",
              "      <td>C1305486145</td>\n",
              "      <td>181.00</td>\n",
              "      <td>0.00</td>\n",
              "      <td>C553264065</td>\n",
              "      <td>0.0</td>\n",
              "      <td>0.00</td>\n",
              "      <td>1</td>\n",
              "      <td>0</td>\n",
              "    </tr>\n",
              "    <tr>\n",
              "      <th>3</th>\n",
              "      <td>1</td>\n",
              "      <td>CASH_OUT</td>\n",
              "      <td>181.00</td>\n",
              "      <td>C840083671</td>\n",
              "      <td>181.00</td>\n",
              "      <td>0.00</td>\n",
              "      <td>C38997010</td>\n",
              "      <td>21182.0</td>\n",
              "      <td>0.00</td>\n",
              "      <td>1</td>\n",
              "      <td>0</td>\n",
              "    </tr>\n",
              "    <tr>\n",
              "      <th>4</th>\n",
              "      <td>1</td>\n",
              "      <td>PAYMENT</td>\n",
              "      <td>11668.14</td>\n",
              "      <td>C2048537720</td>\n",
              "      <td>41554.00</td>\n",
              "      <td>29885.86</td>\n",
              "      <td>M1230701703</td>\n",
              "      <td>0.0</td>\n",
              "      <td>0.00</td>\n",
              "      <td>0</td>\n",
              "      <td>0</td>\n",
              "    </tr>\n",
              "    <tr>\n",
              "      <th>5</th>\n",
              "      <td>1</td>\n",
              "      <td>PAYMENT</td>\n",
              "      <td>7817.71</td>\n",
              "      <td>C90045638</td>\n",
              "      <td>53860.00</td>\n",
              "      <td>46042.29</td>\n",
              "      <td>M573487274</td>\n",
              "      <td>0.0</td>\n",
              "      <td>0.00</td>\n",
              "      <td>0</td>\n",
              "      <td>0</td>\n",
              "    </tr>\n",
              "    <tr>\n",
              "      <th>6</th>\n",
              "      <td>1</td>\n",
              "      <td>PAYMENT</td>\n",
              "      <td>7107.77</td>\n",
              "      <td>C154988899</td>\n",
              "      <td>183195.00</td>\n",
              "      <td>176087.23</td>\n",
              "      <td>M408069119</td>\n",
              "      <td>0.0</td>\n",
              "      <td>0.00</td>\n",
              "      <td>0</td>\n",
              "      <td>0</td>\n",
              "    </tr>\n",
              "    <tr>\n",
              "      <th>7</th>\n",
              "      <td>1</td>\n",
              "      <td>PAYMENT</td>\n",
              "      <td>7861.64</td>\n",
              "      <td>C1912850431</td>\n",
              "      <td>176087.23</td>\n",
              "      <td>168225.59</td>\n",
              "      <td>M633326333</td>\n",
              "      <td>0.0</td>\n",
              "      <td>0.00</td>\n",
              "      <td>0</td>\n",
              "      <td>0</td>\n",
              "    </tr>\n",
              "    <tr>\n",
              "      <th>8</th>\n",
              "      <td>1</td>\n",
              "      <td>PAYMENT</td>\n",
              "      <td>4024.36</td>\n",
              "      <td>C1265012928</td>\n",
              "      <td>2671.00</td>\n",
              "      <td>0.00</td>\n",
              "      <td>M1176932104</td>\n",
              "      <td>0.0</td>\n",
              "      <td>0.00</td>\n",
              "      <td>0</td>\n",
              "      <td>0</td>\n",
              "    </tr>\n",
              "    <tr>\n",
              "      <th>9</th>\n",
              "      <td>1</td>\n",
              "      <td>DEBIT</td>\n",
              "      <td>5337.77</td>\n",
              "      <td>C712410124</td>\n",
              "      <td>41720.00</td>\n",
              "      <td>36382.23</td>\n",
              "      <td>C195600860</td>\n",
              "      <td>41898.0</td>\n",
              "      <td>40348.79</td>\n",
              "      <td>0</td>\n",
              "      <td>0</td>\n",
              "    </tr>\n",
              "  </tbody>\n",
              "</table>\n",
              "</div>"
            ],
            "text/plain": [
              "   step      type    amount  ... newbalanceDest  isFraud  isFlaggedFraud\n",
              "0     1   PAYMENT   9839.64  ...           0.00        0               0\n",
              "1     1   PAYMENT   1864.28  ...           0.00        0               0\n",
              "2     1  TRANSFER    181.00  ...           0.00        1               0\n",
              "3     1  CASH_OUT    181.00  ...           0.00        1               0\n",
              "4     1   PAYMENT  11668.14  ...           0.00        0               0\n",
              "5     1   PAYMENT   7817.71  ...           0.00        0               0\n",
              "6     1   PAYMENT   7107.77  ...           0.00        0               0\n",
              "7     1   PAYMENT   7861.64  ...           0.00        0               0\n",
              "8     1   PAYMENT   4024.36  ...           0.00        0               0\n",
              "9     1     DEBIT   5337.77  ...       40348.79        0               0\n",
              "\n",
              "[10 rows x 11 columns]"
            ]
          },
          "metadata": {
            "tags": []
          },
          "execution_count": 37
        }
      ]
    },
    {
      "cell_type": "markdown",
      "metadata": {
        "id": "Y6ukz5mhSCfQ"
      },
      "source": [
        "To explain the data, we have the following columns:-\r\n",
        "\r\n",
        "**Step:-** This represents an unit of time equal to 1 hr in real world. There are total 30days (744 steps) of simulation.\r\n",
        "\r\n",
        "**Type:-** There are 5 types of transaction- CASH-IN, CASH-OUT, DEBIT, PAYMENT and TRANSFER.\r\n",
        "\r\n",
        "**Amount:-** The total amount of transaction that happened in local currency.\r\n",
        "\r\n",
        "**nameOrig:-** Name of the customer who started the transaction\r\n",
        "\r\n",
        "**oldbalanceOrg:-** Initial balance before the transaction at origin\r\n",
        "\r\n",
        "**newbalanceOrig:-** New balance after the transaction at origin\r\n",
        "\r\n",
        "**nameDest:-** Customer who is the recipient of the transaction\r\n",
        "\r\n",
        "**oldbalanceDest:-** Initial balance before the transaction at destination.\r\n",
        "\r\n",
        "**newbalanceDest:-** New balance after the transaction at destination. \r\n",
        "\r\n",
        "A thing to note is that there is no information for customers whose name start with M (Merchants).\r\n",
        "\r\n",
        "**isFraud:-** This variable marks whether a transaction is fraud or not. \r\n",
        "\r\n",
        "**isFlaggedFraud:-** This variable denotes whether the business model was able to flag a transaction as fraud or not. An illegal attempt in this dataset is an attempt to transfer more than 200,000 in a single transaction."
      ]
    },
    {
      "cell_type": "markdown",
      "metadata": {
        "id": "L3_b4fD_WDti"
      },
      "source": [
        "**Issues with the dataset**\r\n",
        "\r\n",
        "1. The main issue with the dataset is that it is highly imbalanced. The positive class outnumbers the negative class by a lot. We will need to account for this imbalanced data while training later. \r\n",
        "\r\n",
        "2. The variable **isFlaggedFraud** is not very useful as it doesn't quite relate with any other parameters. It appears to be true in only 16 transactions out of 6 million entries and doesn't add much value. Also, in some places the variable is very inconsistent with respect to its definition; where it said the flag should be set to true for a transaction more than 200,000 but it's not.\r\n",
        "\r\n",
        "3. Finally, the dataset is sometimes inconsistent with respect to the transaction data. For example, in the above sample we can see for the 3rd transaction, 181.0 amount was Cashed Out but the transactional amount is not reflected at the destination column."
      ]
    },
    {
      "cell_type": "code",
      "metadata": {
        "colab": {
          "base_uri": "https://localhost:8080/",
          "height": 397
        },
        "id": "hltkbWg1Zwp9",
        "outputId": "8f315530-546f-4430-8aa0-a593952d2e73"
      },
      "source": [
        "import matplotlib.pyplot as plt\r\n",
        "ax = df['isFraud'].value_counts().plot(kind='bar', title =\"Imbalanced Data\", figsize=(5, 5), legend=True, fontsize=12)\r\n",
        "ax.set_xlabel(\"isFraud\", fontsize=8)\r\n",
        "ax.set_ylabel(\"Counts\", fontsize=8)\r\n",
        "plt.show()\r\n",
        "print (df['isFraud'].value_counts())"
      ],
      "execution_count": null,
      "outputs": [
        {
          "output_type": "display_data",
          "data": {
            "image/png": "[encoded data removed]",
            "text/plain": [
              "<Figure size 360x360 with 1 Axes>"
            ]
          },
          "metadata": {
            "tags": [],
            "needs_background": "light"
          }
        },
        {
          "output_type": "stream",
          "text": [
            "0    6354407\n",
            "1       8213\n",
            "Name: isFraud, dtype: int64\n"
          ],
          "name": "stdout"
        }
      ]
    },
    {
      "cell_type": "markdown",
      "metadata": {
        "id": "cbcqjMjPhGcO"
      },
      "source": [
        "We can see that the data is highly imbalanced as the number of negatives (isFraud=0) are much more than the number of positives (isFraud=1)"
      ]
    },
    {
      "cell_type": "code",
      "metadata": {
        "colab": {
          "base_uri": "https://localhost:8080/"
        },
        "id": "UCnCS7SWe5q2",
        "outputId": "0df6d8e7-83e8-4cde-c0c1-f970a43efbed"
      },
      "source": [
        "df_flagged = df.loc[df['isFlaggedFraud']==1]\r\n",
        "df_not_flagged = df.loc[df['isFlaggedFraud']==0]\r\n",
        "print(\"Number of times isFlaggedFraud is set: {}\".format(len(df_flagged)))\r\n",
        "print(\"Max amount transacted when isFlaggedFraud not set: {}\".format(df_not_flagged.amount.max()))"
      ],
      "execution_count": null,
      "outputs": [
        {
          "output_type": "stream",
          "text": [
            "Number of times isFlaggedFraud is set: 16\n",
            "Max amount transacted when isFlaggedFraud not set: 92445516.64\n"
          ],
          "name": "stdout"
        }
      ]
    },
    {
      "cell_type": "markdown",
      "metadata": {
        "id": "hK87MioTk_WQ"
      },
      "source": [
        "We can see here that the **isFlaggedFraud** variable is inconsistent as it appears only 16 times and it doesn't flag a transaction amount well above 200,000 as fraud. Hence, we will not be using this parameter in our further analysis."
      ]
    },
    {
      "cell_type": "markdown",
      "metadata": {
        "id": "CG8xIsz5cbya"
      },
      "source": [
        "**Visualizations**\r\n",
        "\r\n",
        "1. Types of transactions"
      ]
    },
    {
      "cell_type": "code",
      "metadata": {
        "colab": {
          "base_uri": "https://localhost:8080/",
          "height": 512
        },
        "id": "EMmoI31kjacg",
        "outputId": "440a1338-3ccf-432c-e2ad-8e4be83fc10b"
      },
      "source": [
        "ax = df['type'].value_counts().plot(kind='bar', title =\"Transaction Types\", figsize=(5, 7), legend=True, fontsize=12)\r\n",
        "ax.set_xlabel(\"Transaction Type\", fontsize=8)\r\n",
        "ax.set_ylabel(\"Counts\", fontsize=8)\r\n",
        "plt.show()"
      ],
      "execution_count": null,
      "outputs": [
        {
          "output_type": "display_data",
          "data": {
            "image/png": "[encoded data removed]",
            "text/plain": [
              "<Figure size 360x504 with 1 Axes>"
            ]
          },
          "metadata": {
            "tags": [],
            "needs_background": "light"
          }
        }
      ]
    },
    {
      "cell_type": "markdown",
      "metadata": {
        "id": "ZHvKA7mVpxwJ"
      },
      "source": [
        "We can observe that the most common transaction types are the CASH_OUT and PAYMENT modes."
      ]
    },
    {
      "cell_type": "markdown",
      "metadata": {
        "id": "6gFVIbd4pBu8"
      },
      "source": [
        "2. Types of transactions where isFraud is True"
      ]
    },
    {
      "cell_type": "code",
      "metadata": {
        "colab": {
          "base_uri": "https://localhost:8080/",
          "height": 454
        },
        "id": "4p7OSyI6olB5",
        "outputId": "79adf21c-4492-4b71-85bf-ea00aa4d94ba"
      },
      "source": [
        "ax = df.loc[df['isFraud']==1, 'type'].value_counts().plot(kind='bar', title =\"Fraud Transaction Types\", figsize=(7, 5), legend=True, fontsize=12)\r\n",
        "ax.set_xlabel(\"Transaction Type\", fontsize=8)\r\n",
        "ax.set_ylabel(\"Counts\", fontsize=8)\r\n",
        "plt.show()\r\n",
        "print (df.loc[df['isFraud']==1, 'type'].value_counts())"
      ],
      "execution_count": null,
      "outputs": [
        {
          "output_type": "display_data",
          "data": {
            "image/png": "[encoded data removed]",
            "text/plain": [
              "<Figure size 504x360 with 1 Axes>"
            ]
          },
          "metadata": {
            "tags": [],
            "needs_background": "light"
          }
        },
        {
          "output_type": "stream",
          "text": [
            "CASH_OUT    4116\n",
            "TRANSFER    4097\n",
            "Name: type, dtype: int64\n"
          ],
          "name": "stdout"
        }
      ]
    },
    {
      "cell_type": "markdown",
      "metadata": {
        "id": "gwH0m4gYp-LR"
      },
      "source": [
        "We can observe that the fraudulent transactions happens only with the CASH_OUT and TRANSFER modes and hence, we are interested in these two types only for fraud prediction."
      ]
    },
    {
      "cell_type": "markdown",
      "metadata": {
        "id": "qofCJNo0uBns"
      },
      "source": [
        "3. Amount vs Time for Fraudulent/Genuine transactions"
      ]
    },
    {
      "cell_type": "code",
      "metadata": {
        "colab": {
          "base_uri": "https://localhost:8080/",
          "height": 353
        },
        "id": "XIwnb3nhpRCi",
        "outputId": "b5f2eb51-6ab4-42db-9b07-29ae076fde3f"
      },
      "source": [
        "df1 = df[(df.isFraud==1)]\r\n",
        "df2 = df[(df.isFraud==0)]\r\n",
        "ax1 = df1.plot(kind='scatter', x='step', y='amount',title =\"Time vs Amount\", figsize=(10, 5), label=\"Fraud transactions\", legend=True, fontsize=12)\r\n",
        "ax2 = df2.plot(kind='scatter', x='step', y='amount',title =\"Time vs Amount\", color='g',figsize=(10, 5), label=\"Genuine transactions\", legend=True, fontsize=12,ax=ax1)\r\n",
        "ax1.set_xlabel(\"Time Step\", fontsize=8)\r\n",
        "ax1.set_ylabel(\"Amount\", fontsize=8)\r\n",
        "plt.show()"
      ],
      "execution_count": null,
      "outputs": [
        {
          "output_type": "display_data",
          "data": {
            "image/png": "[encoded data removed]",
            "text/plain": [
              "<Figure size 720x360 with 1 Axes>"
            ]
          },
          "metadata": {
            "tags": [],
            "needs_background": "light"
          }
        }
      ]
    },
    {
      "cell_type": "markdown",
      "metadata": {
        "id": "xux6ckGv7ise"
      },
      "source": [
        "We can observe that fraudulent transactions are capped at 10 million currency units but genuine transactions exceed over 92 million units."
      ]
    },
    {
      "cell_type": "markdown",
      "metadata": {
        "id": "5L02hTYQ7knN"
      },
      "source": [
        "4. Number of Fraud/genuine transactions per time step"
      ]
    },
    {
      "cell_type": "code",
      "metadata": {
        "colab": {
          "base_uri": "https://localhost:8080/",
          "height": 573
        },
        "id": "7rKYYYTYwBGl",
        "outputId": "0359b998-558a-4441-c1fa-08eee3f6882a"
      },
      "source": [
        "df1 = df[(df.isFraud==1)]\r\n",
        "df2 = df[(df.isFraud==0)]\r\n",
        "bins=50\r\n",
        "\r\n",
        "df1.hist(column=\"step\",color=\"red\",bins=bins)\r\n",
        "plt.title(\"Number of fraud transactions per time step\")\r\n",
        "plt.xlabel(\"Time Step\", fontsize=10)\r\n",
        "plt.ylabel(\"Counts\", fontsize=10)\r\n",
        "\r\n",
        "df2.hist(column=\"step\",color=\"blue\",bins=bins)\r\n",
        "plt.title(\"Number of genuine transactions per time step\")\r\n",
        "plt.xlabel(\"Time Step\", fontsize=10)\r\n",
        "plt.ylabel(\"Counts\", fontsize=10)\r\n",
        "plt.show()"
      ],
      "execution_count": null,
      "outputs": [
        {
          "output_type": "display_data",
          "data": {
            "image/png": "[encoded data removed]",
            "text/plain": [
              "<Figure size 432x288 with 1 Axes>"
            ]
          },
          "metadata": {
            "tags": [],
            "needs_background": "light"
          }
        },
        {
          "output_type": "display_data",
          "data": {
            "image/png": "[encoded data removed]",
            "text/plain": [
              "<Figure size 432x288 with 1 Axes>"
            ]
          },
          "metadata": {
            "tags": [],
            "needs_background": "light"
          }
        }
      ]
    },
    {
      "cell_type": "markdown",
      "metadata": {
        "id": "5YzvF235EAoc"
      },
      "source": [
        "We can see that fraudulent transactions happens at a constant rate through out the month but genuine transactions has no such pattern."
      ]
    },
    {
      "cell_type": "markdown",
      "metadata": {
        "id": "wiXPmewgGCWj"
      },
      "source": [
        "5. Old Balance in origin vs destination accounts"
      ]
    },
    {
      "cell_type": "code",
      "metadata": {
        "colab": {
          "base_uri": "https://localhost:8080/",
          "height": 298
        },
        "id": "pjkKHEYA9Jlq",
        "outputId": "6806d8d7-ca58-4b17-92fd-275ab2b0cbd7"
      },
      "source": [
        "import numpy as np\r\n",
        "import warnings\r\n",
        "warnings.filterwarnings(\"ignore\")\r\n",
        "df1 = df[(df.isFraud==1)]\r\n",
        "df2 = df[(df.isFraud==0)]\r\n",
        "df1.loc[:,'oldbalanceOrg'] = df1.oldbalanceOrg.apply(lambda x: np.log1p(x))\r\n",
        "df1.loc[:,'oldbalanceDest'] = df1.oldbalanceDest.apply(lambda x: np.log1p(x))\r\n",
        "df1.boxplot(column=['oldbalanceOrg','oldbalanceDest'])\r\n",
        "plt.title(\"Frauduent Transactions\")"
      ],
      "execution_count": null,
      "outputs": [
        {
          "output_type": "execute_result",
          "data": {
            "text/plain": [
              "Text(0.5, 1.0, 'Frauduent Transactions')"
            ]
          },
          "metadata": {
            "tags": []
          },
          "execution_count": 137
        },
        {
          "output_type": "display_data",
          "data": {
            "image/png": "[encoded data removed]",
            "text/plain": [
              "<Figure size 432x288 with 1 Axes>"
            ]
          },
          "metadata": {
            "tags": [],
            "needs_background": "light"
          }
        }
      ]
    },
    {
      "cell_type": "code",
      "metadata": {
        "colab": {
          "base_uri": "https://localhost:8080/",
          "height": 298
        },
        "id": "5ftwu5x2G7BL",
        "outputId": "c67c0135-0d9d-4ce8-c680-8d39d3cecd84"
      },
      "source": [
        "df2.loc[:,'oldbalanceOrg'] = df2.oldbalanceOrg.apply(lambda x: np.log1p(x))\r\n",
        "df2.loc[:,'oldbalanceDest'] = df2.oldbalanceDest.apply(lambda x: np.log1p(x))\r\n",
        "df2.boxplot(column=['oldbalanceOrg','oldbalanceDest'])\r\n",
        "plt.title(\"Genuine Transactions\")"
      ],
      "execution_count": null,
      "outputs": [
        {
          "output_type": "execute_result",
          "data": {
            "text/plain": [
              "Text(0.5, 1.0, 'Genuine Transactions')"
            ]
          },
          "metadata": {
            "tags": []
          },
          "execution_count": 138
        },
        {
          "output_type": "display_data",
          "data": {
            "image/png": "[encoded data removed]",
            "text/plain": [
              "<Figure size 432x288 with 1 Axes>"
            ]
          },
          "metadata": {
            "tags": [],
            "needs_background": "light"
          }
        }
      ]
    },
    {
      "cell_type": "markdown",
      "metadata": {
        "id": "nTV1LimRM6su"
      },
      "source": [
        "From the above, we can see that for fraudulent transactions, the old balance in origin account is significantly higher thant the old balance in destination account. This shows that money is being stolen from a richer account to a new/poor account."
      ]
    },
    {
      "cell_type": "markdown",
      "metadata": {
        "id": "9kT-rmU9NXUD"
      },
      "source": [
        "**Feature Engineering and Data Cleansing**\r\n"
      ]
    },
    {
      "cell_type": "markdown",
      "metadata": {
        "id": "CuRTDVfXNckJ"
      },
      "source": [
        "We have seen that there are no null values in the dataset. But there are lot of zeros which we can assume as being the static fill value of any missing data.\r\n",
        "\r\n",
        "For the first step of data cleaning, we will need to keep only the types 'CASH_OUT' and 'TRANSFER' as they are the only types with fraudulent transactions.\r\n",
        "\r\n",
        "Secondly, we need to one hot encode the 'type' data so that we get a 0 or 1 encoding from the corresponding string representations.\r\n",
        "\r\n",
        "Thirdly, we also add a feature 'hourOfDay' to keep note of the time when fraudulent transactions happen. This is because we saw above the genuine transactions doesnt happen always but fraud transactions occurs at a constant rate.\r\n",
        "\r\n",
        "Finally, we are adding two new features that is important towards extracting the best results from the ML algorithms: 'errorBalanceOrig' and 'errorBalanceDest'. These features denotes the respective error values between origin/destination balance values.\r\n",
        "\r\n"
      ]
    },
    {
      "cell_type": "code",
      "metadata": {
        "id": "ioXK_nn9U2XD"
      },
      "source": [
        "from random import seed,sample\r\n",
        "from sklearn.model_selection import train_test_split\r\n",
        "from sklearn.preprocessing import StandardScaler\r\n",
        "from sklearn.metrics import classification_report,confusion_matrix,accuracy_score, roc_curve, auc,\\\r\n",
        "precision_score\r\n",
        "from sklearn.ensemble import RandomForestClassifier\r\n",
        "from xgboost.sklearn import XGBClassifier"
      ],
      "execution_count": null,
      "outputs": []
    },
    {
      "cell_type": "code",
      "metadata": {
        "id": "WngMqpqgMa3F"
      },
      "source": [
        "#Preparing X and Y datasets\r\n",
        "X = df.loc[(df.type == 'TRANSFER') | (df.type == 'CASH_OUT')]\r\n",
        "Y = X['isFraud']\r\n",
        "X = X.drop(\"isFraud\",1)\r\n",
        "X = X.drop(['nameOrig', 'nameDest', 'isFlaggedFraud'], axis = 1)\r\n",
        "\r\n",
        "# adding feature HourOfDay \r\n",
        "X[\"HourOfDay\"] = np.nan # initializing feature column\r\n",
        "X.HourOfDay = X.step % 24\r\n",
        "\r\n",
        "#adding errorbalanceOrf feature\r\n",
        "X[\"errorBalanceOrg\"] = X.newbalanceOrig + X.amount - X.oldbalanceOrg\r\n",
        "X[\"errorBalanceDest\"] = X.oldbalanceDest + X.amount - X.newbalanceDest\r\n",
        "\r\n",
        "#One hot encoding\r\n",
        "X.loc[X.type == 'TRANSFER', 'type'] = 0\r\n",
        "X.loc[X.type == 'CASH_OUT', 'type'] = 1\r\n",
        "X.type = X.type.astype(int)\r\n",
        "\r\n",
        "#Setting seed values\r\n",
        "randomState = 42\r\n",
        "seed(21)\r\n",
        "\r\n",
        "#using default 75% train, 25% test split\r\n",
        "X_train, X_test, y_train, y_test = train_test_split(X, Y)\r\n",
        "\r\n",
        "#Normalizing data\r\n",
        "scaler = StandardScaler()\r\n",
        "\r\n",
        "# Fitting the training data\r\n",
        "scaler.fit(X_train)\r\n",
        "\r\n",
        "# Applying the transformations to the data:\r\n",
        "X_train = scaler.transform(X_train)\r\n",
        "X_test = scaler.transform(X_test)\r\n",
        "\r\n"
      ],
      "execution_count": null,
      "outputs": []
    },
    {
      "cell_type": "markdown",
      "metadata": {
        "id": "bt4iuqKIVtJb"
      },
      "source": [
        "I have tried the two best models that works pretty good for imbalanced data.\r\n",
        "\r\n",
        "1. **Random Forests:-** The reason for choosing random forests is that weights can be assigned to majority class to reduce the bias towards that class. Since our data is imbalanced and more skewed towards the positive class (non fraud), this model works well here.\r\n",
        "\r\n",
        "2. **Gradient Boosting (XGB):-** This model is similar to random forests with an additional advantage being it pools the results from multiple decision trees generated sequentially (as compared to parallely in Random Forests). Hence, the model is bit slower but it is more accurate."
      ]
    },
    {
      "cell_type": "code",
      "metadata": {
        "id": "vYOLyf2uUknD"
      },
      "source": [
        "#Algorithm 1 - Random Forests\r\n",
        "\r\n",
        "#Train\r\n",
        "paramsrf = {'n_estimators':15,'oob_score':True,'class_weight': \"balanced\",'n_jobs':-1,'random_state':randomState}\r\n",
        "\r\n",
        "RF = RandomForestClassifier(**paramsrf)\r\n",
        "fit_vals_rf = RF.fit(X_train, y_train)\r\n",
        "\r\n",
        "# Prediction\r\n",
        "pred_rf = RF.predict(X_test)\r\n",
        "\r\n",
        "# Evaluation\r\n",
        "cm_rf = confusion_matrix(y_test,pred_rf)\r\n",
        "cl_report_rf = classification_report(y_test,pred_rf)\r\n",
        "fprrf, recallrf, thresholdsrf = roc_curve(y_test, pred_rf)\r\n",
        "aucrf = auc(fprrf, recallrf)\r\n",
        "\r\n",
        "resultsrf = {\"Confusion Matrix\":cm_rf,\"Classification Report\":cl_report_rf,\"Area Under Curve\":aucrf}"
      ],
      "execution_count": null,
      "outputs": []
    },
    {
      "cell_type": "code",
      "metadata": {
        "colab": {
          "base_uri": "https://localhost:8080/"
        },
        "id": "1JbzvtdGbqEK",
        "outputId": "c72cf6bc-ba04-4e6c-a971-380cf4970681"
      },
      "source": [
        "#print results\r\n",
        "for i in resultsrf:\r\n",
        "    print(i,\": \\n\",resultsrf[i])"
      ],
      "execution_count": null,
      "outputs": [
        {
          "output_type": "stream",
          "text": [
            "Confusion Matrix : \n",
            " [[690573      1]\n",
            " [     8   2021]]\n",
            "Classification Report : \n",
            "               precision    recall  f1-score   support\n",
            "\n",
            "           0       1.00      1.00      1.00    690574\n",
            "           1       1.00      1.00      1.00      2029\n",
            "\n",
            "    accuracy                           1.00    692603\n",
            "   macro avg       1.00      1.00      1.00    692603\n",
            "weighted avg       1.00      1.00      1.00    692603\n",
            "\n",
            "Area Under Curve : \n",
            " 0.9980278614747358\n"
          ],
          "name": "stdout"
        }
      ]
    },
    {
      "cell_type": "code",
      "metadata": {
        "id": "Pywb9p19YdO-"
      },
      "source": [
        "#Algorithm 2 - XGB Trees\r\n",
        "\r\n",
        "# Train\r\n",
        "weights = (Y == 0).sum() / (1.0 * (Y == 1).sum()) # recommended weights for unbalanced dataset\r\n",
        "paramsxgb = {'max_depth':3,'scale_pos_weight': weights,'n_jobs':-1,'random_state':randomState,'learning_rate':0.1}\r\n",
        "XGB = XGBClassifier(**paramsxgb)\r\n",
        "    \r\n",
        "fit_valsxgb = XGB.fit(X_train, y_train)\r\n",
        " \r\n",
        "# Prediction\r\n",
        "predxgb = XGB.predict(X_test)\r\n",
        " \r\n",
        "     \r\n",
        "# Evaluating model\r\n",
        "cmxgb = confusion_matrix(y_test,predxgb)\r\n",
        "crxgb = classification_report(y_test,predxgb)\r\n",
        "fprxgb, recallxgb, thresholdsxgb = roc_curve(y_test, predxgb)\r\n",
        "aucxgb = auc(fprxgb, recallxgb)\r\n",
        "resultsxgb = {\"Confusion Matrix\":cmxgb,\"Classification Report\":crxgb,\"Area Under Curve\":aucxgb}"
      ],
      "execution_count": null,
      "outputs": []
    },
    {
      "cell_type": "code",
      "metadata": {
        "colab": {
          "base_uri": "https://localhost:8080/"
        },
        "id": "CyDq7Pqfb2J-",
        "outputId": "8197975a-75fb-4787-e27b-c54a70778c2a"
      },
      "source": [
        "#print results\r\n",
        "for i in resultsxgb:\r\n",
        "    print(i,\": \\n\",resultsxgb[i])\r\n"
      ],
      "execution_count": null,
      "outputs": [
        {
          "output_type": "stream",
          "text": [
            "Confusion Matrix : \n",
            " [[690367    207]\n",
            " [     6   2023]]\n",
            "Classification Report : \n",
            "               precision    recall  f1-score   support\n",
            "\n",
            "           0       1.00      1.00      1.00    690574\n",
            "           1       0.91      1.00      0.95      2029\n",
            "\n",
            "    accuracy                           1.00    692603\n",
            "   macro avg       0.95      1.00      0.97    692603\n",
            "weighted avg       1.00      1.00      1.00    692603\n",
            "\n",
            "Area Under Curve : \n",
            " 0.998371563811468\n"
          ],
          "name": "stdout"
        }
      ]
    },
    {
      "cell_type": "markdown",
      "metadata": {
        "id": "Y9Dhxp3FjsEI"
      },
      "source": [
        "To compare the performances of both the models, we need to compare their confusion matrices.\r\n",
        "\r\n",
        "Number of valid transactions labelled as fraudulent by Random Forest: \r\n",
        " 29\r\n",
        "Number of valid transactions labelled as fraudulent by XGB trees: \r\n",
        " 12817\r\n",
        "\r\n",
        "Number of fraud transactions labelled as valid by Random Forest: \r\n",
        " 392\r\n",
        "Number of fraud transactions labelled as valid by XGB trees: \r\n",
        " 23\r\n",
        "\r\n",
        "The better model is dependent on which of the above result is acceptable to us. According to me, the number of valid transactions labelled as fraudulent by XGB trees is way high. Therefore, according to me, Random Forests is the superior model here.\r\n",
        "\r\n",
        "We have also computed the AUC (Area Under Curve) to compare the performance where the XGB model has worked better. The curve in Area Under Curve is a plot of the true positive rates (in our case, the proportion of valid transactions labelled as valid) against the false positive rate (in our case, the proportion of fraudulent transactions labelled as valid). The curve is also known as the Receiver Operating Characteristic Curve or ROC.\r\n",
        "\r\n",
        "The plot of ROC curve can be seen below."
      ]
    },
    {
      "cell_type": "code",
      "metadata": {
        "colab": {
          "base_uri": "https://localhost:8080/",
          "height": 448
        },
        "id": "JvUEVPPugA4_",
        "outputId": "069f230f-e549-4682-d104-6cc2fef1f863"
      },
      "source": [
        "print(\"\\nReceiver Operating Characteristic Curves for Random Forests and Extreme Gradient Boosted Trees: \\n\")\r\n",
        "plt.subplot(1, 2, 1)\r\n",
        "plt.plot(fprrf, recallrf, color='purple', label='ROC curve (area = %0.2f)' % aucrf)\r\n",
        "plt.plot([0, 1], [0, 1], color='navy', linestyle='--')\r\n",
        "plt.xlim([-0.01, 1.0])\r\n",
        "plt.ylim([-0.01, 1.0])\r\n",
        "plt.xlabel('False Positive Rate')\r\n",
        "plt.ylabel('True Positive Rate')\r\n",
        "plt.title('ROC (Random Forest)')\r\n",
        "plt.legend(loc=\"lower right\")\r\n",
        "\r\n",
        "\r\n",
        "plt.subplot(1, 2, 2)\r\n",
        "plt.plot(fprxgb, recallxgb, color='green', label='ROC curve (area = %0.2f)' % aucxgb)\r\n",
        "plt.plot([0, 1], [0, 1], color='navy', linestyle='--')\r\n",
        "plt.xlim([-0.01, 1.0])\r\n",
        "plt.ylim([-0.01, 1.0])\r\n",
        "plt.xlabel('False Positive Rate')\r\n",
        "plt.ylabel('True Positive Rate')\r\n",
        "plt.title('ROC (XGB)')\r\n",
        "plt.legend(loc=\"lower right\")\r\n",
        "\r\n",
        "plt.tight_layout()\r\n",
        "plt.show()\r\n",
        "\r\n",
        "print(\"\\nAUC of Random Forest: \\n\", aucrf)\r\n",
        "print(\"\\nAUC of XGB trees: \\n\", aucxgb)"
      ],
      "execution_count": null,
      "outputs": [
        {
          "output_type": "stream",
          "text": [
            "\n",
            "Receiver Operating Characteristic Curves for Random Forests and Extreme Gradient Boosted Trees: \n",
            "\n"
          ],
          "name": "stdout"
        },
        {
          "output_type": "display_data",
          "data": {
            "image/png": "[encoded data removed]",
            "text/plain": [
              "<Figure size 432x288 with 2 Axes>"
            ]
          },
          "metadata": {
            "tags": [],
            "needs_background": "light"
          }
        },
        {
          "output_type": "stream",
          "text": [
            "\n",
            "AUC of Random Forest: \n",
            " 0.9980278614747358\n",
            "\n",
            "AUC of XGB trees: \n",
            " 0.998371563811468\n"
          ],
          "name": "stdout"
        }
      ]
    },
    {
      "cell_type": "code",
      "metadata": {
        "colab": {
          "base_uri": "https://localhost:8080/",
          "height": 444
        },
        "id": "1BP_tp2Ql_3y",
        "outputId": "0b86f8bd-257b-4396-8a83-3a1b4c8c2e0c"
      },
      "source": [
        "#Feature Importance\r\n",
        "x = np.arange(len(X.columns))\r\n",
        "\r\n",
        "# getting importances of features\r\n",
        "importances = RF.feature_importances_\r\n",
        "\r\n",
        "# getting the indices of the most important feature to least important\r\n",
        "sort_ind = np.argsort(importances)[::-1]\r\n",
        "plt.figure(figsize=(18,7))\r\n",
        "plt.bar(x, importances[sort_ind])\r\n",
        "plt.xticks(x,tuple(X.columns.values[sort_ind]))\r\n",
        "plt.title(\"Important Features: Greatest to Least\")\r\n",
        "plt.show()"
      ],
      "execution_count": null,
      "outputs": [
        {
          "output_type": "display_data",
          "data": {
            "image/png": "[encoded data removed]",
            "text/plain": [
              "<Figure size 1296x504 with 1 Axes>"
            ]
          },
          "metadata": {
            "tags": [],
            "needs_background": "light"
          }
        }
      ]
    },
    {
      "cell_type": "markdown",
      "metadata": {
        "id": "n_sQS9RumZoj"
      },
      "source": [
        "As said earlier, we can see that the 'errorBalanceOrg' feature has the highest importance because it denotes the differences between net origin balance and net destination balance which is most accurately related to the transaction being flagged as fraud or not.\r\n",
        "\r\n",
        "**Improvement:** We can improve our results by also looking for approaches like undersampling the majority class or oversampling the minority class (SMOTE-preffered) and then use native classifiers like Logistic Regression on the balanced data."
      ]
    },
    {
      "cell_type": "code",
      "metadata": {
        "id": "mk1ZRZeOmShm"
      },
      "source": [
        ""
      ],
      "execution_count": null,
      "outputs": []
    }
  ]
}