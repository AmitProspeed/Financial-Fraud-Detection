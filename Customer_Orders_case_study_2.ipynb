{
  "nbformat": 4,
  "nbformat_minor": 0,
  "metadata": {
    "colab": {
      "name": "Customer_Orders_case_study_2.ipynb",
      "provenance": []
    },
    "kernelspec": {
      "name": "python3",
      "display_name": "Python 3"
    }
  },
  "cells": [
    {
      "cell_type": "code",
      "metadata": {
        "id": "8l1RVbEkNVc3"
      },
      "source": [
        "import pandas as pd"
      ],
      "execution_count": 1,
      "outputs": []
    },
    {
      "cell_type": "code",
      "metadata": {
        "colab": {
          "base_uri": "https://localhost:8080/"
        },
        "id": "oDfaTltETEgO",
        "outputId": "b013d82c-b035-4d4e-f4a7-a70f70231853"
      },
      "source": [
        "df = pd.read_csv(\"casestudy-dataset.csv\")\r\n",
        "df.columns = ['Id', 'Customer_Email', 'Net_Revenue', 'Year']\r\n",
        "print(df[:10])"
      ],
      "execution_count": 15,
      "outputs": [
        {
          "output_type": "stream",
          "text": [
            "   Id         Customer_Email  Net_Revenue  Year\n",
            "0   0   nhknapwsbx@gmail.com       249.92  2015\n",
            "1   1   joiuzbvcpn@gmail.com        87.61  2015\n",
            "2   2   ukkjctepxt@gmail.com       168.38  2015\n",
            "3   3   gykatilzrt@gmail.com        62.40  2015\n",
            "4   4   mmsgsrtxah@gmail.com        43.08  2015\n",
            "5   5   mobvusnzfr@gmail.com        39.44  2015\n",
            "6   6   kxwkqvacsv@gmail.com       171.46  2015\n",
            "7   7   iqmnugdcjs@gmail.com       111.99  2015\n",
            "8   8   baiikostmd@gmail.com       170.70  2015\n",
            "9   9   lfeafnigbu@gmail.com        54.99  2015\n"
          ],
          "name": "stdout"
        }
      ]
    },
    {
      "cell_type": "code",
      "metadata": {
        "colab": {
          "base_uri": "https://localhost:8080/"
        },
        "id": "l3oudONkTIx3",
        "outputId": "4d90b471-7d69-49cc-e74c-ee8e1ba2b8c4"
      },
      "source": [
        "#Total revenue for current year\r\n",
        "unique_yrs = sorted(df['Year'].unique())\r\n",
        "print(\"Unique Years: {0}\".format(unique_yrs))\r\n",
        "for i in unique_yrs:\r\n",
        "  revenue_df = df.loc[df['Year'] == i, 'Net_Revenue']\r\n",
        "  #print(len(revenue_df))\r\n",
        "  print(\"Total revenue for year {0}: {1}\".format(i, round(revenue_df.sum(),2)))"
      ],
      "execution_count": 44,
      "outputs": [
        {
          "output_type": "stream",
          "text": [
            "Unique Years: [2015, 2016, 2017]\n",
            "Total revenue for year 2015: 29036749.19\n",
            "Total revenue for year 2016: 25730943.59\n",
            "Total revenue for year 2017: 31417495.03\n"
          ],
          "name": "stdout"
        }
      ]
    },
    {
      "cell_type": "code",
      "metadata": {
        "colab": {
          "base_uri": "https://localhost:8080/"
        },
        "id": "uEM4ttleUYmE",
        "outputId": "34dd80b3-c6f0-4699-b5e9-4a737efb5788"
      },
      "source": [
        "#New Customer Revenue\r\n",
        "prev_year = 2014\r\n",
        "for i in unique_yrs:\r\n",
        "  existing_customer_df = df.loc[df['Year'] == prev_year, 'Customer_Email']\r\n",
        "  new_customer_df = df.loc[(df['Year'] == i) & (~df['Customer_Email'].isin(existing_customer_df))]\r\n",
        "  prev_year = i\r\n",
        "  #print(len(new_customer_df))\r\n",
        "  print(\"New customer revenue for year {0}: {1}\".format(i, round(new_customer_df['Net_Revenue'].sum(),2)))"
      ],
      "execution_count": 50,
      "outputs": [
        {
          "output_type": "stream",
          "text": [
            "New customer revenue for year 2015: 29036749.19\n",
            "New customer revenue for year 2016: 18245491.01\n",
            "New customer revenue for year 2017: 28776235.04\n"
          ],
          "name": "stdout"
        }
      ]
    },
    {
      "cell_type": "code",
      "metadata": {
        "colab": {
          "base_uri": "https://localhost:8080/"
        },
        "id": "5I7fZqncf2S7",
        "outputId": "15673a14-faad-40f7-d28e-2d59ce540ccf"
      },
      "source": [
        "#Existing Customer Growth\r\n",
        "prev_year = 2014\r\n",
        "existing_customer_existing_year_revenue = 0\r\n",
        "for i in unique_yrs:\r\n",
        "  prev_year_customer_df = df.loc[df['Year'] == prev_year, 'Customer_Email']\r\n",
        "  existing_customer_df = df.loc[(df['Year'] == i) & (df['Customer_Email'].isin(prev_year_customer_df))]\r\n",
        "  existing_customer_growth = existing_customer_df['Net_Revenue'].sum() - existing_customer_existing_year_revenue\r\n",
        "  prev_year = i\r\n",
        "  existing_customer_existing_year_revenue = existing_customer_df['Net_Revenue'].sum()\r\n",
        "  print(\"Existing customer growth for year {0}: {1}\".format(i, round(existing_customer_growth,2)))"
      ],
      "execution_count": 35,
      "outputs": [
        {
          "output_type": "stream",
          "text": [
            "Existing customer growth for year 2015: 0.0\n",
            "Existing customer growth for year 2016: 7485452.58\n",
            "Existing customer growth for year 2017: -4844192.59\n"
          ],
          "name": "stdout"
        }
      ]
    },
    {
      "cell_type": "code",
      "metadata": {
        "colab": {
          "base_uri": "https://localhost:8080/"
        },
        "id": "oVmDCyAyhhgP",
        "outputId": "c55377fc-f68d-403e-fd9a-6e9d7c10190a"
      },
      "source": [
        "#Revenue lost from attrition\r\n",
        "prev_year = 2014\r\n",
        "for i in unique_yrs:\r\n",
        "  customer_df = df.loc[df['Year'] == i, 'Customer_Email']\r\n",
        "  lost_customer_df = df.loc[(df['Year'] == prev_year) & (~df['Customer_Email'].isin(customer_df))]\r\n",
        "  prev_year = i\r\n",
        "  print(\"Revenue lost from attrition for year {0}: {1}\".format(i, round(lost_customer_df['Net_Revenue'].sum(),2)))"
      ],
      "execution_count": 36,
      "outputs": [
        {
          "output_type": "stream",
          "text": [
            "Revenue lost from attrition for year 2015: 0.0\n",
            "Revenue lost from attrition for year 2016: 21571632.07\n",
            "Revenue lost from attrition for year 2017: 23110294.94\n"
          ],
          "name": "stdout"
        }
      ]
    },
    {
      "cell_type": "code",
      "metadata": {
        "colab": {
          "base_uri": "https://localhost:8080/"
        },
        "id": "onYpfld4oF7t",
        "outputId": "5ad6e3d0-4580-47b2-d67b-43d380bac56b"
      },
      "source": [
        "#Existing Customer Revenue Current Year\r\n",
        "prev_year = 2014\r\n",
        "for i in unique_yrs:\r\n",
        "  prev_year_customer_df = df.loc[df['Year'] == prev_year, 'Customer_Email']\r\n",
        "  existing_customer_df = df.loc[(df['Year'] == i) & (df['Customer_Email'].isin(prev_year_customer_df))]\r\n",
        "  prev_year = i\r\n",
        "  print(\"Existing Customer Revenue for year {0}: {1}\".format(i, round(existing_customer_df['Net_Revenue'].sum(),2)))"
      ],
      "execution_count": 38,
      "outputs": [
        {
          "output_type": "stream",
          "text": [
            "Existing Customer Revenue for year 2015: 0.0\n",
            "Existing Customer Revenue for year 2016: 7485452.58\n",
            "Existing Customer Revenue for year 2017: 2641259.99\n"
          ],
          "name": "stdout"
        }
      ]
    },
    {
      "cell_type": "code",
      "metadata": {
        "colab": {
          "base_uri": "https://localhost:8080/"
        },
        "id": "SGl5KhCNpCmh",
        "outputId": "7c7b5255-a224-410c-ebec-140306fe2bce"
      },
      "source": [
        "#Existing Customer Revenue Prior Year(Assuming the previous year)\r\n",
        "prev_year = 2014\r\n",
        "existing_customer_prior_year_revenue = 0.0\r\n",
        "for i in unique_yrs:\r\n",
        "  print(\"Existing Customer Revenue Prior Year {0}: {1}\".format(i, round(existing_customer_prior_year_revenue,2)))\r\n",
        "  prev_year_customer_df = df.loc[df['Year'] == prev_year, 'Customer_Email']\r\n",
        "  existing_customer_df = df.loc[(df['Year'] == i) & (df['Customer_Email'].isin(prev_year_customer_df))]\r\n",
        "  existing_customer_prior_year_revenue = existing_customer_df['Net_Revenue'].sum()\r\n",
        "  prev_year = i\r\n",
        "print(\"Existing Customer Revenue Prior Year {0}: {1}\".format(prev_year+1, round(existing_customer_prior_year_revenue,2)))"
      ],
      "execution_count": 41,
      "outputs": [
        {
          "output_type": "stream",
          "text": [
            "Existing Customer Revenue Prior Year 2015: 0.0\n",
            "Existing Customer Revenue Prior Year 2016: 0.0\n",
            "Existing Customer Revenue Prior Year 2017: 7485452.58\n",
            "Existing Customer Revenue Prior Year 2018: 2641259.99\n"
          ],
          "name": "stdout"
        }
      ]
    },
    {
      "cell_type": "code",
      "metadata": {
        "colab": {
          "base_uri": "https://localhost:8080/"
        },
        "id": "y72SrHpstFh_",
        "outputId": "7a8df78a-7105-48a5-e821-b7af12efee34"
      },
      "source": [
        "#Total Customers Current Year\r\n",
        "for i in unique_yrs:\r\n",
        "  customer_df = df.loc[df['Year'] == i]\r\n",
        "  print(\"Total Customers for year {0}: {1}\".format(i, len(customer_df)))"
      ],
      "execution_count": 42,
      "outputs": [
        {
          "output_type": "stream",
          "text": [
            "Total Customers for year 2015: 231294\n",
            "Total Customers for year 2016: 204646\n",
            "Total Customers for year 2017: 249987\n"
          ],
          "name": "stdout"
        }
      ]
    },
    {
      "cell_type": "code",
      "metadata": {
        "colab": {
          "base_uri": "https://localhost:8080/"
        },
        "id": "HyUQgaCYt4tx",
        "outputId": "c90f75da-b7ef-4d9f-a7a6-b48caf1c562c"
      },
      "source": [
        "#Total Customers Previous Year\r\n",
        "prev_year=2014\r\n",
        "for i in unique_yrs:\r\n",
        "  customer_df = df.loc[df['Year'] == prev_year]\r\n",
        "  prev_year=i\r\n",
        "  print(\"Total Previous Year Customers for year {0}: {1}\".format(i, len(customer_df)))\r\n",
        "customer_df = df.loc[df['Year'] == prev_year]\r\n",
        "print(\"Total Previous Year Customers for year {0}: {1}\".format(prev_year+1, len(customer_df)))"
      ],
      "execution_count": 47,
      "outputs": [
        {
          "output_type": "stream",
          "text": [
            "Total Previous Year Customers for year 2015: 0\n",
            "Total Previous Year Customers for year 2016: 231294\n",
            "Total Previous Year Customers for year 2017: 204646\n",
            "Total Previous Year Customers for year 2018: 249987\n"
          ],
          "name": "stdout"
        }
      ]
    },
    {
      "cell_type": "code",
      "metadata": {
        "colab": {
          "base_uri": "https://localhost:8080/"
        },
        "id": "Y8C9v8B9uUZV",
        "outputId": "9de63042-a030-4e24-f718-996c3d2be408"
      },
      "source": [
        "#New Customers\r\n",
        "prev_year=2014\r\n",
        "for i in unique_yrs:\r\n",
        "  existing_customer_df = df.loc[df['Year'] == prev_year, 'Customer_Email']\r\n",
        "  new_customer_df = df.loc[(df['Year'] == i) & (~df['Customer_Email'].isin(existing_customer_df))]\r\n",
        "  prev_year=i\r\n",
        "  print(\"Total New Customers for year {0}: {1}\".format(i, len(new_customer_df)))"
      ],
      "execution_count": 48,
      "outputs": [
        {
          "output_type": "stream",
          "text": [
            "Total New Customers for year 2015: 231294\n",
            "Total New Customers for year 2016: 145062\n",
            "Total New Customers for year 2017: 229028\n"
          ],
          "name": "stdout"
        }
      ]
    },
    {
      "cell_type": "code",
      "metadata": {
        "colab": {
          "base_uri": "https://localhost:8080/"
        },
        "id": "aI9H9S54vjqM",
        "outputId": "6f225481-0945-470e-bbd2-57d2273d296c"
      },
      "source": [
        "#Lost Customers\r\n",
        "prev_year=2014\r\n",
        "for i in unique_yrs:\r\n",
        "  customer_df = df.loc[df['Year'] == i, 'Customer_Email']\r\n",
        "  lost_customer_df = df.loc[(df['Year'] == prev_year) & (~df['Customer_Email'].isin(customer_df))]\r\n",
        "  prev_year = i\r\n",
        "  print(\"Total Lost Customers for year {0}: {1}\".format(i, len(lost_customer_df)))"
      ],
      "execution_count": 51,
      "outputs": [
        {
          "output_type": "stream",
          "text": [
            "Total Lost Customers for year 2015: 0\n",
            "Total Lost Customers for year 2016: 171710\n",
            "Total Lost Customers for year 2017: 183687\n"
          ],
          "name": "stdout"
        }
      ]
    },
    {
      "cell_type": "code",
      "metadata": {
        "id": "OaifepOdwfOI"
      },
      "source": [
        ""
      ],
      "execution_count": null,
      "outputs": []
    }
  ]
}